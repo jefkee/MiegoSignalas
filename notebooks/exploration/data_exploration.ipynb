{
 "cells": [
  {
   "cell_type": "code",
   "execution_count": 14,
   "metadata": {},
   "outputs": [
    {
     "name": "stdout",
     "output_type": "stream",
     "text": [
      "Analyzing 153 hypnogram files...\n",
      "\n"
     ]
    },
    {
     "name": "stderr",
     "output_type": "stream",
     "text": [
      "Processing hypnograms: 100%|██████████| 153/153 [00:00<00:00, 616.96it/s]"
     ]
    },
    {
     "name": "stdout",
     "output_type": "stream",
     "text": [
      "\n",
      "Sleep Stage Statistics:\n",
      "--------------------------------------------------\n",
      "Stage Movement time: 123 occurrences (0.5%)\n",
      "Stage Sleep stage 1: 5944 occurrences (26.5%)\n",
      "Stage Sleep stage 2: 6378 occurrences (28.4%)\n",
      "Stage Sleep stage 3: 3538 occurrences (15.8%)\n",
      "Stage Sleep stage 4: 1015 occurrences (4.5%)\n",
      "Stage Sleep stage ?: 174 occurrences (0.8%)\n",
      "Stage Sleep stage R: 1560 occurrences (7.0%)\n",
      "Stage Sleep stage W: 3698 occurrences (16.5%)\n"
     ]
    },
    {
     "name": "stderr",
     "output_type": "stream",
     "text": [
      "\n"
     ]
    }
   ],
   "source": [
    "import os\n",
    "import mne\n",
    "import warnings\n",
    "import numpy as np\n",
    "from tqdm import tqdm\n",
    "\n",
    "# Path to your downloaded EDF files\n",
    "DATA_DIR = os.path.join('..', 'data', 'raw')\n",
    "\n",
    "def explore_annotations(directory):\n",
    "    \"\"\"\n",
    "    Analyze sleep stage annotations in the hypnogram files\n",
    "    \"\"\"\n",
    "    warnings.filterwarnings('ignore', category=RuntimeWarning)\n",
    "    mne.set_log_level('ERROR')\n",
    "    \n",
    "    # Get hypnogram files\n",
    "    hypno_files = [f for f in os.listdir(directory) if 'Hypnogram' in f]\n",
    "    \n",
    "    print(f\"Analyzing {len(hypno_files)} hypnogram files...\\n\")\n",
    "    \n",
    "    annotation_stats = {}\n",
    "    \n",
    "    for file in tqdm(hypno_files, desc=\"Processing hypnograms\"):\n",
    "        file_path = os.path.join(directory, file)\n",
    "        try:\n",
    "            # Read annotations from hypnogram file\n",
    "            annot = mne.read_annotations(file_path)\n",
    "            \n",
    "            # Count different sleep stages\n",
    "            for description in annot.description:\n",
    "                if description not in annotation_stats:\n",
    "                    annotation_stats[description] = 0\n",
    "                annotation_stats[description] += 1\n",
    "                \n",
    "        except Exception as e:\n",
    "            print(f\"Error processing {file}: {e}\")\n",
    "    \n",
    "    print(\"\\nSleep Stage Statistics:\")\n",
    "    print(\"-\" * 50)\n",
    "    total_annotations = sum(annotation_stats.values())\n",
    "    \n",
    "    for stage, count in sorted(annotation_stats.items()):\n",
    "        percentage = (count / total_annotations) * 100\n",
    "        print(f\"Stage {stage}: {count} occurrences ({percentage:.1f}%)\")\n",
    "\n",
    "# Run the annotation analysis\n",
    "explore_annotations(DATA_DIR)"
   ]
  }
 ],
 "metadata": {
  "kernelspec": {
   "display_name": "venv",
   "language": "python",
   "name": "python3"
  },
  "language_info": {
   "codemirror_mode": {
    "name": "ipython",
    "version": 3
   },
   "file_extension": ".py",
   "mimetype": "text/x-python",
   "name": "python",
   "nbconvert_exporter": "python",
   "pygments_lexer": "ipython3",
   "version": "3.11.3"
  }
 },
 "nbformat": 4,
 "nbformat_minor": 2
}
